{
  "nbformat": 4,
  "nbformat_minor": 0,
  "metadata": {
    "colab": {
      "name": "Convert-pkl-to-pt.ipynb",
      "provenance": [],
      "toc_visible": true,
      "machine_shape": "hm",
      "authorship_tag": "ABX9TyNc++A3bKIf3/GgoOs6wQMN",
      "include_colab_link": true
    },
    "kernelspec": {
      "name": "python3",
      "display_name": "Python 3"
    },
    "accelerator": "GPU"
  },
  "cells": [
    {
      "cell_type": "markdown",
      "metadata": {
        "id": "view-in-github",
        "colab_type": "text"
      },
      "source": [
        "<a href=\"https://colab.research.google.com/github/dvschultz/stylegan2-training/blob/main/Convert_pkl_to_pt.ipynb\" target=\"_parent\"><img src=\"https://colab.research.google.com/assets/colab-badge.svg\" alt=\"Open In Colab\"/></a>"
      ]
    },
    {
      "cell_type": "markdown",
      "metadata": {
        "id": "KLTTMlI6UJZT"
      },
      "source": [
        "# Convert StyleGAN2 .pkl model to .pt\n",
        "\n",
        "Many StyleGAN tools (outside of the official Tensorflow-based NVIDIA library) use a PyTorch fork of StyleGAN. This requires we convert a .pkl model file to a .pt file.\n",
        "\n",
        "This notebook shows you the steps to do so. I also have a [video](https://youtu.be/ASn2DcYLUEE) describing this process."
      ]
    },
    {
      "cell_type": "markdown",
      "metadata": {
        "id": "KUoPW4rXUO9k"
      },
      "source": [
        "## Setup\n",
        "\n",
        "First, we’ll download both the Tensorflow and PyTorch versions of StyleGAN2. We also need to make sure Colab is running Tensorflow 1.15."
      ]
    },
    {
      "cell_type": "code",
      "metadata": {
        "id": "WpHI1-QxF15O",
        "outputId": "ae98ac74-36c4-4938-ec81-1cfb80c9eba5",
        "colab": {
          "base_uri": "https://localhost:8080/",
          "height": 34
        }
      },
      "source": [
        "%tensorflow_version 1.x"
      ],
      "execution_count": null,
      "outputs": [
        {
          "output_type": "stream",
          "text": [
            "TensorFlow 1.x selected.\n"
          ],
          "name": "stdout"
        }
      ]
    },
    {
      "cell_type": "code",
      "metadata": {
        "id": "5wd3zk15G9gl",
        "outputId": "199e870e-cdcb-4208-bf35-eba98e5b2dc0",
        "colab": {
          "base_uri": "https://localhost:8080/",
          "height": 326
        }
      },
      "source": [
        "!git clone https://github.com/rosinality/stylegan2-pytorch\n",
        "!git clone https://github.com/dvschultz/stylegan2-ada\n",
        "!pip install ninja #required dependency for stylegan2-pytorch"
      ],
      "execution_count": null,
      "outputs": [
        {
          "output_type": "stream",
          "text": [
            "Cloning into 'stylegan2-pytorch'...\n",
            "remote: Enumerating objects: 331, done.\u001b[K\n",
            "remote: Total 331 (delta 0), reused 0 (delta 0), pack-reused 331\u001b[K\n",
            "Receiving objects: 100% (331/331), 122.49 MiB | 22.90 MiB/s, done.\n",
            "Resolving deltas: 100% (163/163), done.\n",
            "Cloning into 'stylegan2-ada'...\n",
            "remote: Enumerating objects: 33, done.\u001b[K\n",
            "remote: Counting objects: 100% (33/33), done.\u001b[K\n",
            "remote: Compressing objects: 100% (27/27), done.\u001b[K\n",
            "remote: Total 109 (delta 17), reused 15 (delta 6), pack-reused 76\u001b[K\n",
            "Receiving objects: 100% (109/109), 1.14 MiB | 2.09 MiB/s, done.\n",
            "Resolving deltas: 100% (42/42), done.\n",
            "Collecting ninja\n",
            "\u001b[?25l  Downloading https://files.pythonhosted.org/packages/1d/de/393468f2a37fc2c1dc3a06afc37775e27fde2d16845424141d4da62c686d/ninja-1.10.0.post2-py3-none-manylinux1_x86_64.whl (107kB)\n",
            "\u001b[K     |████████████████████████████████| 112kB 8.3MB/s \n",
            "\u001b[?25hInstalling collected packages: ninja\n",
            "Successfully installed ninja-1.10.0.post2\n"
          ],
          "name": "stdout"
        }
      ]
    },
    {
      "cell_type": "markdown",
      "metadata": {
        "id": "8HZ3iOOaURe3"
      },
      "source": [
        "## Add .pkl\n",
        "\n",
        "Next we need to provide the .pkl file for converting. You can upload it directly to Colab or use gdown if you have the file on Google Drive."
      ]
    },
    {
      "cell_type": "code",
      "metadata": {
        "id": "bRGem5kiOaVa",
        "outputId": "a0d0fbcf-38a0-4307-8390-919c8e509bdc",
        "colab": {
          "base_uri": "https://localhost:8080/",
          "height": 85
        }
      },
      "source": [
        "!gdown --id 11w-n91Y6tPvVKDCSrTtEoUp1RwiqqUiH"
      ],
      "execution_count": null,
      "outputs": [
        {
          "output_type": "stream",
          "text": [
            "Downloading...\n",
            "From: https://drive.google.com/uc?id=11w-n91Y6tPvVKDCSrTtEoUp1RwiqqUiH\n",
            "To: /content/network-snapshot-000320.pkl\n",
            "382MB [00:02, 148MB/s] \n"
          ],
          "name": "stdout"
        }
      ]
    },
    {
      "cell_type": "markdown",
      "metadata": {
        "id": "Xzo4Rhy8Ua9l"
      },
      "source": [
        "## Convert file\n",
        "Lastly we need to give the conversion script the path to the .pkl file and then run the convesion script."
      ]
    },
    {
      "cell_type": "code",
      "metadata": {
        "id": "8l_cBk5vOvG2"
      },
      "source": [
        "pkl_file = \"/content/network-snapshot-000320.pkl\" # copy and paste path from sidebar"
      ],
      "execution_count": null,
      "outputs": []
    },
    {
      "cell_type": "code",
      "metadata": {
        "id": "9xeaf1jxL8Z4",
        "outputId": "ecdae8dc-6047-4d19-daed-f656c17548d8",
        "colab": {
          "base_uri": "https://localhost:8080/",
          "height": 68
        }
      },
      "source": [
        "!python /content/stylegan2-pytorch/convert_weight.py --repo ./stylegan2-ada $pkl_file"
      ],
      "execution_count": null,
      "outputs": [
        {
          "output_type": "stream",
          "text": [
            "Setting up TensorFlow plugin \"fused_bias_act.cu\": Compiling... Loading... Done.\n",
            "Setting up TensorFlow plugin \"upfirdn_2d.cu\": Compiling... Loading... Done.\n",
            "tensor(0.0120, device='cuda:0')\n"
          ],
          "name": "stdout"
        }
      ]
    },
    {
      "cell_type": "markdown",
      "metadata": {
        "id": "EbC9p8-fVu4z"
      },
      "source": [
        "You should now see a .pt file with the same name as your .pkl file in the Files sideebar. There is also a .png that you can look at to make sure the generated images from the .pt modeel look ok.\n",
        "\n",
        "I recommend you download the .pt file or move it to Google Drive for re-use."
      ]
    },
    {
      "cell_type": "code",
      "metadata": {
        "id": "lKtgJgwBNhiU",
        "outputId": "01615e3b-4103-4655-9769-85f21affd759",
        "colab": {
          "base_uri": "https://localhost:8080/",
          "height": 122
        }
      },
      "source": [
        "from google.colab import drive\n",
        "drive.mount('/content/drive')"
      ],
      "execution_count": null,
      "outputs": [
        {
          "output_type": "stream",
          "text": [
            "Go to this URL in a browser: https://accounts.google.com/o/oauth2/auth?client_id=947318989803-6bn6qk8qdgf4n4g3pfee6491hc0brc4i.apps.googleusercontent.com&redirect_uri=urn%3aietf%3awg%3aoauth%3a2.0%3aoob&response_type=code&scope=email%20https%3a%2f%2fwww.googleapis.com%2fauth%2fdocs.test%20https%3a%2f%2fwww.googleapis.com%2fauth%2fdrive%20https%3a%2f%2fwww.googleapis.com%2fauth%2fdrive.photos.readonly%20https%3a%2f%2fwww.googleapis.com%2fauth%2fpeopleapi.readonly\n",
            "\n",
            "Enter your authorization code:\n",
            "··········\n",
            "Mounted at /content/drive\n"
          ],
          "name": "stdout"
        }
      ]
    },
    {
      "cell_type": "code",
      "metadata": {
        "id": "CwGsLA8ZvW9e"
      },
      "source": [
        "mv /content/crystal-augs-0style-attn-011986.pt /content/drive/My\\ Drive/stylegan2\\ transfer\\ models/crystal-augs-0style-attn-011986.pt"
      ],
      "execution_count": null,
      "outputs": []
    },
    {
      "cell_type": "code",
      "metadata": {
        "id": "4EsaXGk0Oivv"
      },
      "source": [
        ""
      ],
      "execution_count": null,
      "outputs": []
    }
  ]
}